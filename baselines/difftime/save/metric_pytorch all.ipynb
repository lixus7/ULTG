{
 "cells": [
  {
   "cell_type": "markdown",
   "metadata": {},
   "source": [
    "# Context-FID Score Presentation\n",
    "## Necessary packages and functions call\n",
    "\n",
    "- Context-FID score: A useful metric measures how well the the synthetic time series windows ”fit” into the local context of the time series"
   ]
  },
  {
   "cell_type": "code",
   "execution_count": 2,
   "metadata": {
    "ExecuteTime": {
     "end_time": "2024-11-11T16:05:16.594392Z",
     "start_time": "2024-11-11T16:05:13.793428Z"
    }
   },
   "outputs": [],
   "source": [
    "import os\n",
    "import torch\n",
    "import numpy as np\n",
    "import sys\n",
    "sys.path.append(os.path.join(os.path.dirname('__file__'), './'))\n",
    "from Utils.context_fid import Context_FID\n",
    "from Utils.metric_utils import display_scores\n",
    "from Utils.cross_correlation import CrossCorrelLoss"
   ]
  },
  {
   "cell_type": "markdown",
   "metadata": {},
   "source": [
    "## Data Loading  ETTh Morning Peak\n",
    "\n",
    "Load original dataset and preprocess the loaded data."
   ]
  },
  {
   "cell_type": "code",
   "execution_count": 2,
   "metadata": {},
   "outputs": [
    {
     "name": "stdout",
     "output_type": "stream",
     "text": [
      "ori shape is:  (20167, 24, 1)\n",
      "fake shape is:  (20167, 24, 1)\n",
      "Iter 0:  context-fid = 0.10043507803684334 \n",
      "\n",
      "Iter 1:  context-fid = 0.15920723467122552 \n",
      "\n",
      "Iter 2:  context-fid = 0.11076932358139865 \n",
      "\n",
      "Iter 3:  context-fid = 0.09726904262151931 \n",
      "\n",
      "Iter 4:  context-fid = 0.11364384175240214 \n",
      "\n",
      "Final Score:  0.11626490413267779 ± 0.030995259210072047\n",
      "Iter 0:  context-fid = 0.08679884068169522 \n",
      "\n",
      "Iter 1:  context-fid = 0.10070309152922927 \n",
      "\n",
      "Iter 2:  context-fid = 0.13979526148829416 \n",
      "\n",
      "Iter 3:  context-fid = 0.1385036858370915 \n",
      "\n",
      "Iter 4:  context-fid = 0.13362420789490853 \n",
      "\n",
      "Final Score:  0.11988501748624372 ± 0.030379431480451427\n"
     ]
    }
   ],
   "source": [
    "# iterations = 5\n",
    "iterations = 5\n",
    "\n",
    "ori_data = np.load('./etth_mp/ori_etth_mp24.npy')  # Uncomment the line if dataset other than Sine is used.\n",
    "fake_data = np.load('./etth_mp/generate_etth_mp24.npy')\n",
    "fake_data = fake_data[:,7,:,:]\n",
    "print('ori shape is: ', ori_data.shape)\n",
    "print('fake shape is: ', fake_data.shape)\n",
    "\n",
    "\n",
    "#  CFS\n",
    "\n",
    "for j in range(2):\n",
    "\n",
    "    context_fid_score = []\n",
    "\n",
    "    for i in range(iterations):\n",
    "        context_fid = Context_FID(ori_data[:], fake_data[:ori_data.shape[0]])\n",
    "        context_fid_score.append(context_fid)\n",
    "        print(f'Iter {i}: ', 'context-fid =', context_fid, '\\n')\n",
    "\n",
    "    display_scores(context_fid_score)\n",
    "\n",
    "# Seed 12345 :  mp  10mile  0.292   0.309\n",
    "# seed 12345 :  ep  10mile  0.151\n",
    "\n",
    "\n",
    "# ett mp 1000 mile     0.1427\n",
    "# 看看 500 mile的     等训练完了试试看？    0.1567\n"
   ]
  },
  {
   "cell_type": "markdown",
   "metadata": {},
   "source": [
    "## Data Loading  etth Evening Peak\n",
    "\n",
    "Load original dataset and preprocess the loaded data."
   ]
  },
  {
   "cell_type": "code",
   "execution_count": 3,
   "metadata": {},
   "outputs": [
    {
     "name": "stdout",
     "output_type": "stream",
     "text": [
      "ori shape is:  (20160, 24, 1)\n",
      "fake shape is:  (20160, 24, 1)\n",
      "Iter 0:  context-fid = 0.06469352578284489 \n",
      "\n",
      "Iter 1:  context-fid = 0.06019697641278001 \n",
      "\n",
      "Iter 2:  context-fid = 0.06325682071479305 \n",
      "\n",
      "Iter 3:  context-fid = 0.06977647294322928 \n",
      "\n",
      "Iter 4:  context-fid = 0.06783561708627997 \n",
      "\n",
      "Final Score:  0.06515188258798543 ± 0.004684781665806243\n",
      "Iter 0:  context-fid = 0.06495785337543653 \n",
      "\n",
      "Iter 1:  context-fid = 0.06934997331984616 \n",
      "\n",
      "Iter 2:  context-fid = 0.05824137751623612 \n",
      "\n",
      "Iter 3:  context-fid = 0.05802517128116108 \n",
      "\n",
      "Iter 4:  context-fid = 0.06310638527523 \n",
      "\n",
      "Final Score:  0.06273615215358198 ± 0.005929254345685792\n"
     ]
    }
   ],
   "source": [
    "# iterations = 5\n",
    "iterations = 5\n",
    "\n",
    "ori_data = np.load('./etth_ep/ori_etth_ep24.npy')  # Uncomment the line if dataset other than Sine is used.\n",
    "fake_data = np.load('./etth_ep/generate_etth_ep24.npy')\n",
    "fake_data = fake_data[:,7,:,:]\n",
    "print('ori shape is: ', ori_data.shape)\n",
    "print('fake shape is: ', fake_data.shape)\n",
    "\n",
    "\n",
    "\n",
    "#  CFS\n",
    "\n",
    "for j in range(2):\n",
    "\n",
    "    context_fid_score = []\n",
    "\n",
    "    for i in range(iterations):\n",
    "        context_fid = Context_FID(ori_data[:], fake_data[:ori_data.shape[0]])\n",
    "        context_fid_score.append(context_fid)\n",
    "        print(f'Iter {i}: ', 'context-fid =', context_fid, '\\n')\n",
    "\n",
    "    display_scores(context_fid_score)\n",
    "\n",
    "# Seed 12345 :  mp  10mile  0.292   0.309\n",
    "# seed 12345 :  ep  10mile  0.151\n",
    "\n",
    "\n",
    "# ett mp 1000 mile     0.1427\n",
    "# 看看 500 mile的     等训练完了试试看？    0.1567\n"
   ]
  },
  {
   "cell_type": "markdown",
   "metadata": {},
   "source": [
    "## Data Loading  Energy Morning Peak\n",
    "\n",
    "Load original dataset and preprocess the loaded data."
   ]
  },
  {
   "cell_type": "code",
   "execution_count": 4,
   "metadata": {},
   "outputs": [
    {
     "name": "stdout",
     "output_type": "stream",
     "text": [
      "ori shape is:  (72240, 24, 1)\n",
      "fake shape is:  (72240, 24, 1)\n",
      "Iter 0:  context-fid = 0.04312262211110842 \n",
      "\n",
      "Iter 1:  context-fid = 0.03619886397580485 \n",
      "\n",
      "Iter 2:  context-fid = 0.03968400541643393 \n",
      "\n",
      "Iter 3:  context-fid = 0.04203539986799239 \n",
      "\n",
      "Iter 4:  context-fid = 0.047324368170486304 \n",
      "\n",
      "Final Score:  0.04167305190836518 ± 0.005123010137666851\n",
      "Iter 0:  context-fid = 0.047305648322369075 \n",
      "\n",
      "Iter 1:  context-fid = 0.047856375766556644 \n",
      "\n",
      "Iter 2:  context-fid = 0.04955584790349496 \n",
      "\n",
      "Iter 3:  context-fid = 0.03486583072102158 \n",
      "\n",
      "Iter 4:  context-fid = 0.040031673168778883 \n",
      "\n",
      "Final Score:  0.043923075176444226 ± 0.007749651404632373\n"
     ]
    }
   ],
   "source": [
    "# iterations = 5\n",
    "iterations = 5\n",
    "\n",
    "ori_data = np.load('./energy_mp/ori_energy_mp24.npy')  # Uncomment the line if dataset other than Sine is used.\n",
    "fake_data = np.load('./energy_mp/generate_energy_mp24.npy')\n",
    "fake_data = fake_data[:,7,:,:]\n",
    "print('ori shape is: ', ori_data.shape)\n",
    "print('fake shape is: ', fake_data.shape)\n",
    "\n",
    "\n",
    "\n",
    "#  CFS\n",
    "\n",
    "for j in range(2):\n",
    "\n",
    "    context_fid_score = []\n",
    "\n",
    "    for i in range(iterations):\n",
    "        context_fid = Context_FID(ori_data[:], fake_data[:ori_data.shape[0]])\n",
    "        context_fid_score.append(context_fid)\n",
    "        print(f'Iter {i}: ', 'context-fid =', context_fid, '\\n')\n",
    "\n",
    "    display_scores(context_fid_score)\n",
    "\n",
    "# Seed 12345 :  mp  10mile  0.292   0.309\n",
    "# seed 12345 :  ep  10mile  0.151\n",
    "\n",
    "\n",
    "# ett mp 1000 mile     0.1427\n",
    "# 看看 500 mile的     等训练完了试试看？    0.1567\n"
   ]
  },
  {
   "cell_type": "markdown",
   "metadata": {},
   "source": [
    "## Data Loading  energy Evening Peak\n",
    "\n",
    "Load original dataset and preprocess the loaded data."
   ]
  },
  {
   "cell_type": "code",
   "execution_count": 5,
   "metadata": {},
   "outputs": [
    {
     "name": "stdout",
     "output_type": "stream",
     "text": [
      "ori shape is:  (72436, 24, 1)\n",
      "fake shape is:  (72436, 24, 1)\n",
      "Iter 0:  context-fid = 0.06339962244522004 \n",
      "\n",
      "Iter 1:  context-fid = 0.04338323357696235 \n",
      "\n",
      "Iter 2:  context-fid = 0.052732812071004595 \n",
      "\n",
      "Iter 3:  context-fid = 0.0525075691672197 \n",
      "\n",
      "Iter 4:  context-fid = 0.04750794188873582 \n",
      "\n",
      "Final Score:  0.051906235829828506 ± 0.00931515586294624\n",
      "Iter 0:  context-fid = 0.06710519818875818 \n",
      "\n",
      "Iter 1:  context-fid = 0.04724934230368959 \n",
      "\n",
      "Iter 2:  context-fid = 0.057492982323765304 \n",
      "\n",
      "Iter 3:  context-fid = 0.04774816935821381 \n",
      "\n",
      "Iter 4:  context-fid = 0.04352845862464225 \n",
      "\n",
      "Final Score:  0.052624830159813826 ± 0.011922587235119615\n"
     ]
    }
   ],
   "source": [
    "# iterations = 5\n",
    "iterations = 5\n",
    "\n",
    "ori_data = np.load('./energy_ep/ori_energy_ep24.npy')  # Uncomment the line if dataset other than Sine is used.\n",
    "fake_data = np.load('./energy_ep/generate_energy_ep24.npy')\n",
    "fake_data = fake_data[:,7,:,:]\n",
    "print('ori shape is: ', ori_data.shape)\n",
    "print('fake shape is: ', fake_data.shape)\n",
    "\n",
    "\n",
    "\n",
    "#  CFS\n",
    "\n",
    "for j in range(2):\n",
    "\n",
    "    context_fid_score = []\n",
    "\n",
    "    for i in range(iterations):\n",
    "        context_fid = Context_FID(ori_data[:], fake_data[:ori_data.shape[0]])\n",
    "        context_fid_score.append(context_fid)\n",
    "        print(f'Iter {i}: ', 'context-fid =', context_fid, '\\n')\n",
    "\n",
    "    display_scores(context_fid_score)\n",
    "\n",
    "# Seed 12345 :  mp  10mile  0.292   0.309\n",
    "# seed 12345 :  ep  10mile  0.151\n",
    "\n",
    "\n",
    "# ett mp 1000 mile     0.1427\n",
    "# 看看 500 mile的     等训练完了试试看？    0.1567\n"
   ]
  },
  {
   "cell_type": "markdown",
   "metadata": {},
   "source": [
    "## Data Loading  PEMS04 Morning Peak\n",
    "\n",
    "Load original dataset and preprocess the loaded data."
   ]
  },
  {
   "cell_type": "code",
   "execution_count": null,
   "metadata": {
    "ExecuteTime": {
     "end_time": "2024-11-11T16:05:16.633192Z",
     "start_time": "2024-11-11T16:05:16.597089Z"
    }
   },
   "outputs": [
    {
     "name": "stdout",
     "output_type": "stream",
     "text": [
      "ori shape is:  (663120, 24, 1)\n",
      "fake shape is:  (663120, 24, 1)\n"
     ]
    }
   ],
   "source": [
    "# iterations = 5\n",
    "iterations = 5\n",
    "\n",
    "ori_data = np.load('./pems04_mp/ori_pems04_mp24.npy')  # Uncomment the line if dataset other than Sine is used.\n",
    "fake_data = np.load('./pems04_mp/generate_pems04_mp24.npy')\n",
    "fake_data = fake_data[:,7,:,:]\n",
    "print('ori shape is: ', ori_data.shape)\n",
    "print('fake shape is: ', fake_data.shape)\n",
    "\n",
    "\n",
    "\n",
    "#  CFS\n",
    "\n",
    "for j in range(2):\n",
    "\n",
    "    context_fid_score = []\n",
    "\n",
    "    for i in range(iterations):\n",
    "        context_fid = Context_FID(ori_data[:], fake_data[:ori_data.shape[0]])\n",
    "        context_fid_score.append(context_fid)\n",
    "        print(f'Iter {i}: ', 'context-fid =', context_fid, '\\n')\n",
    "\n",
    "    display_scores(context_fid_score)\n",
    "\n",
    "# Seed 12345 :  mp  10mile  0.292   0.309\n",
    "# seed 12345 :  ep  10mile  0.151\n",
    "\n",
    "\n",
    "# ett mp 1000 mile     0.1427\n",
    "# 看看 500 mile的     等训练完了试试看？    0.1567\n"
   ]
  },
  {
   "cell_type": "markdown",
   "metadata": {},
   "source": [
    "## Data Loading  PEMS04 Evening Peak\n",
    "\n",
    "Load original dataset and preprocess the loaded data."
   ]
  },
  {
   "cell_type": "code",
   "execution_count": null,
   "metadata": {},
   "outputs": [],
   "source": [
    "# iterations = 5\n",
    "iterations = 5\n",
    "\n",
    "ori_data = np.load('./pems04_ep/ori_pems04_ep24.npy')  # Uncomment the line if dataset other than Sine is used.\n",
    "fake_data = np.load('./pems04_ep/generate_pems04_ep24.npy')\n",
    "fake_data = fake_data[:,7,:,:]\n",
    "print('ori shape is: ', ori_data.shape)\n",
    "print('fake shape is: ', fake_data.shape)\n",
    "\n",
    "\n",
    "\n",
    "#  CFS\n",
    "\n",
    "for j in range(2):\n",
    "\n",
    "    context_fid_score = []\n",
    "\n",
    "    for i in range(iterations):\n",
    "        context_fid = Context_FID(ori_data[:], fake_data[:ori_data.shape[0]])\n",
    "        context_fid_score.append(context_fid)\n",
    "        print(f'Iter {i}: ', 'context-fid =', context_fid, '\\n')\n",
    "\n",
    "    display_scores(context_fid_score)\n",
    "\n",
    "# Seed 12345 :  mp  10mile  0.292   0.309\n",
    "# seed 12345 :  ep  10mile  0.151\n",
    "\n",
    "\n",
    "# ett mp 1000 mile     0.1427\n",
    "# 看看 500 mile的     等训练完了试试看？    0.1567\n"
   ]
  },
  {
   "cell_type": "markdown",
   "metadata": {},
   "source": [
    "## Data Loading  PEMS08 Morning Peak\n",
    "\n",
    "Load original dataset and preprocess the loaded data."
   ]
  },
  {
   "cell_type": "code",
   "execution_count": null,
   "metadata": {},
   "outputs": [],
   "source": [
    "# iterations = 5\n",
    "iterations = 5\n",
    "\n",
    "ori_data = np.load('./pems08_mp/ori_pems08_mp24.npy')  # Uncomment the line if dataset other than Sine is used.\n",
    "fake_data = np.load('./pems08_mp/generate_pems08_mp24.npy')\n",
    "fake_data = fake_data[:,7,:,:]\n",
    "print('ori shape is: ', ori_data.shape)\n",
    "print('fake shape is: ', fake_data.shape)\n",
    "\n",
    "\n",
    "\n",
    "#  CFS\n",
    "\n",
    "for j in range(2):\n",
    "\n",
    "    context_fid_score = []\n",
    "\n",
    "    for i in range(iterations):\n",
    "        context_fid = Context_FID(ori_data[:], fake_data[:ori_data.shape[0]])\n",
    "        context_fid_score.append(context_fid)\n",
    "        print(f'Iter {i}: ', 'context-fid =', context_fid, '\\n')\n",
    "\n",
    "    display_scores(context_fid_score)\n",
    "\n",
    "# Seed 12345 :  mp  10mile  0.292   0.309\n",
    "# seed 12345 :  ep  10mile  0.151\n",
    "\n",
    "\n",
    "# ett mp 1000 mile     0.1427\n",
    "# 看看 500 mile的     等训练完了试试看？    0.1567\n"
   ]
  },
  {
   "cell_type": "markdown",
   "metadata": {},
   "source": [
    "## Data Loading  PEMS08 Evening Peak\n",
    "\n",
    "Load original dataset and preprocess the loaded data."
   ]
  },
  {
   "cell_type": "code",
   "execution_count": null,
   "metadata": {},
   "outputs": [],
   "source": [
    "# iterations = 5\n",
    "iterations = 5\n",
    "\n",
    "ori_data = np.load('./pems08_ep/ori_pems08_ep24.npy')  # Uncomment the line if dataset other than Sine is used.\n",
    "fake_data = np.load('./pems08_ep/generate_pems08_ep24.npy')\n",
    "fake_data = fake_data[:,7,:,:]\n",
    "print('ori shape is: ', ori_data.shape)\n",
    "print('fake shape is: ', fake_data.shape)\n",
    "\n",
    "\n",
    "\n",
    "#  CFS\n",
    "\n",
    "for j in range(2):\n",
    "\n",
    "    context_fid_score = []\n",
    "\n",
    "    for i in range(iterations):\n",
    "        context_fid = Context_FID(ori_data[:], fake_data[:ori_data.shape[0]])\n",
    "        context_fid_score.append(context_fid)\n",
    "        print(f'Iter {i}: ', 'context-fid =', context_fid, '\\n')\n",
    "\n",
    "    display_scores(context_fid_score)\n",
    "\n",
    "# Seed 12345 :  mp  10mile  0.292   0.309\n",
    "# seed 12345 :  ep  10mile  0.151\n",
    "\n",
    "\n",
    "# ett mp 1000 mile     0.1427\n",
    "# 看看 500 mile的     等训练完了试试看？    0.1567\n"
   ]
  },
  {
   "cell_type": "code",
   "execution_count": null,
   "metadata": {},
   "outputs": [],
   "source": []
  }
 ],
 "metadata": {
  "kernelspec": {
   "display_name": "torch201",
   "language": "python",
   "name": "torch201"
  },
  "language_info": {
   "codemirror_mode": {
    "name": "ipython",
    "version": 3
   },
   "file_extension": ".py",
   "mimetype": "text/x-python",
   "name": "python",
   "nbconvert_exporter": "python",
   "pygments_lexer": "ipython3",
   "version": "3.9.19"
  }
 },
 "nbformat": 4,
 "nbformat_minor": 2
}
