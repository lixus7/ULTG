{
 "cells": [
  {
   "cell_type": "markdown",
   "metadata": {},
   "source": [
    "# Context-FID Score Presentation\n",
    "## Necessary packages and functions call\n",
    "\n",
    "- Context-FID score: A useful metric measures how well the the synthetic time series windows ”fit” into the local context of the time series"
   ]
  },
  {
   "cell_type": "code",
   "execution_count": 2,
   "metadata": {
    "ExecuteTime": {
     "end_time": "2024-11-11T16:05:16.594392Z",
     "start_time": "2024-11-11T16:05:13.793428Z"
    }
   },
   "outputs": [],
   "source": [
    "import os\n",
    "import torch\n",
    "import numpy as np\n",
    "import sys\n",
    "sys.path.append(os.path.join(os.path.dirname('__file__'), '../'))\n",
    "from Utils.context_fid import Context_FID\n",
    "from Utils.metric_utils import display_scores\n",
    "from Utils.cross_correlation import CrossCorrelLoss"
   ]
  },
  {
   "cell_type": "markdown",
   "metadata": {},
   "source": [
    "## Data Loading  ETTh\n",
    "\n",
    "Load original dataset and preprocess the loaded data."
   ]
  },
  {
   "cell_type": "code",
   "execution_count": 5,
   "metadata": {
    "ExecuteTime": {
     "end_time": "2024-11-11T16:05:16.633192Z",
     "start_time": "2024-11-11T16:05:16.597089Z"
    }
   },
   "outputs": [
    {
     "name": "stdout",
     "output_type": "stream",
     "text": [
      "ori shape is:  (17397, 24, 7)\n",
      "fake shape is:  (121856, 24, 1)\n",
      "ori shape is:  (121779, 24, 1)\n",
      "fake shape is:  (121856, 24, 1)\n"
     ]
    }
   ],
   "source": [
    "# iterations = 5\n",
    "# ori_data = np.load('../toy_exp/samples/sine_ground_truth_24_train.npy')\n",
    "# # ori_data = np.load('../OUTPUT/{dataset_name}/samples/{dataset_name}_norm_truth_{seq_length}_train.npy')  # Uncomment the line if dataset other than Sine is used.\n",
    "# fake_data = np.load('../toy_exp/ddpm_fake_sines.npy')\n",
    "\n",
    "\n",
    "iterations = 5\n",
    "# ori_data = np.load('../toy_exp/samples/sine_ground_truth_24_train.npy')\n",
    "# ori_data = np.load('../OUTPUT/test_ep/samples/etth_norm_truth_24_train.npy')  # Uncomment the line if dataset other than Sine is used.\n",
    "# fake_data = np.load('../OUTPUT/test_ep/ddpm_fake_test_ep_milestone_10.npy')\n",
    "\n",
    "ori_data = np.load('../OUTPUT/etth/samples/etth_norm_truth_24_train.npy')  # Uncomment the line if dataset other than Sine is used.\n",
    "fake_data = np.load('../OUTPUT/etth/ddpm_fake_etth_milestone_20.npy')\n",
    "\n",
    "print('ori shape is: ', ori_data.shape)\n",
    "print('fake shape is: ', fake_data.shape)\n",
    "b,t,n = ori_data.shape\n",
    "\n",
    "\n",
    "ori_data = ori_data.transpose(2, 0, 1).reshape(b * n, t, 1)\n",
    "\n",
    "# fake_data = fake_data[:ori_data.shape[0]*ori_data.shape[2]]\n",
    "# fake_data = fake_data.reshape(n, b, t).transpose(1, 2, 0)\n",
    "\n",
    "print('ori shape is: ', ori_data.shape)\n",
    "print('fake shape is: ', fake_data.shape)"
   ]
  },
  {
   "cell_type": "markdown",
   "metadata": {},
   "source": [
    "\n",
    "\n",
    "\n",
    "\n",
    "\n",
    "\n",
    "## Context-FID Score\n",
    "\n",
    "- The Frechet Inception distance-like score is based on unsupervised time series embeddings. It is able to score the fit of the fixed length synthetic samples into their context of (often much longer) true time series.\n",
    "\n",
    "- The lowest scoring models correspond to the best performing models in downstream tasks"
   ]
  },
  {
   "cell_type": "code",
   "execution_count": 6,
   "metadata": {
    "ExecuteTime": {
     "end_time": "2024-11-11T16:35:19.971852Z",
     "start_time": "2024-11-11T16:05:16.635200Z"
    }
   },
   "outputs": [
    {
     "name": "stdout",
     "output_type": "stream",
     "text": [
      "Iter 0:  context-fid = 0.019706784075510266 \n",
      "\n",
      "Iter 1:  context-fid = 0.019944352601937332 \n",
      "\n",
      "Iter 2:  context-fid = 0.01819694524180907 \n",
      "\n",
      "Iter 3:  context-fid = 0.019691456535924412 \n",
      "\n",
      "Iter 4:  context-fid = 0.016379515700804922 \n",
      "\n",
      "Final Score:  0.0187838108311972 ± 0.0018777067487841404\n",
      "Iter 0:  context-fid = 0.016808809361353923 \n",
      "\n",
      "Iter 1:  context-fid = 0.02210766592037361 \n",
      "\n",
      "Iter 2:  context-fid = 0.019119908415471083 \n",
      "\n",
      "Iter 3:  context-fid = 0.015595383397438439 \n",
      "\n",
      "Iter 4:  context-fid = 0.019277544653405563 \n",
      "\n",
      "Final Score:  0.01858186234960852 ± 0.0031207250199783974\n",
      "Iter 0:  context-fid = 0.020622441044680674 \n",
      "\n",
      "Iter 1:  context-fid = 0.018915480549050994 \n",
      "\n",
      "Iter 2:  context-fid = 0.01940250270099083 \n",
      "\n",
      "Iter 3:  context-fid = 0.01955525506989364 \n",
      "\n",
      "Iter 4:  context-fid = 0.020750398588037962 \n",
      "\n",
      "Final Score:  0.019849215590530815 ± 0.0009948500511941108\n"
     ]
    }
   ],
   "source": [
    "for j in range(3):\n",
    "\n",
    "    context_fid_score = []\n",
    "\n",
    "    for i in range(iterations):\n",
    "        context_fid = Context_FID(ori_data[:], fake_data[:ori_data.shape[0]])\n",
    "        context_fid_score.append(context_fid)\n",
    "        print(f'Iter {i}: ', 'context-fid =', context_fid, '\\n')\n",
    "\n",
    "    display_scores(context_fid_score)\n",
    "\n",
    "# Seed 12345 :  mp  10mile  0.292   0.309\n",
    "# seed 12345 :  ep  10mile  0.151\n",
    "\n",
    "\n",
    "# mp 24 是0.047， 96 就0.2了应该，但是gpt的24是0.02\n",
    "\n",
    "#  ep 24 是  0.0127\n"
   ]
  },
  {
   "cell_type": "markdown",
   "metadata": {},
   "source": [
    "## Correlational Score\n",
    "\n",
    "- The metric uses the absolute error of the auto-correlation estimator by real data and synthetic data as the metric to assess the temporal dependency.\n",
    "\n",
    "- For d > 1, it uses the l1-norm of the difference between cross correlation matrices."
   ]
  },
  {
   "cell_type": "code",
   "execution_count": 7,
   "metadata": {
    "ExecuteTime": {
     "end_time": "2024-11-11T16:35:19.979030Z",
     "start_time": "2024-11-11T16:35:19.975068Z"
    }
   },
   "outputs": [],
   "source": [
    "def random_choice(size, num_select=100):\n",
    "    select_idx = np.random.randint(low=0, high=size, size=(num_select,))\n",
    "    return select_idx"
   ]
  },
  {
   "cell_type": "code",
   "execution_count": 8,
   "metadata": {
    "ExecuteTime": {
     "end_time": "2024-11-11T16:35:20.130211Z",
     "start_time": "2024-11-11T16:35:19.980968Z"
    }
   },
   "outputs": [
    {
     "name": "stdout",
     "output_type": "stream",
     "text": [
      "Iter 0:  cross-correlation = 8.215650382226159e-16 \n",
      "\n",
      "Iter 1:  cross-correlation = 2.90878432451791e-15 \n",
      "\n",
      "Iter 2:  cross-correlation = 6.661338147750939e-17 \n",
      "\n",
      "Iter 3:  cross-correlation = 6.550315845288424e-16 \n",
      "\n",
      "Iter 4:  cross-correlation = 1.765254609153999e-15 \n",
      "\n",
      "Final Score:  1.2434497875801752e-15 ± 1.3819315947113081e-15\n"
     ]
    }
   ],
   "source": [
    "x_real = torch.from_numpy(ori_data)\n",
    "x_fake = torch.from_numpy(fake_data)\n",
    "\n",
    "correlational_score = []\n",
    "size = int(x_real.shape[0] / iterations)\n",
    "\n",
    "for i in range(iterations):\n",
    "    real_idx = random_choice(x_real.shape[0], size)\n",
    "    fake_idx = random_choice(x_fake.shape[0], size)\n",
    "    corr = CrossCorrelLoss(x_real[real_idx, :, :], name='CrossCorrelLoss')\n",
    "    loss = corr.compute(x_fake[fake_idx, :, :])\n",
    "    correlational_score.append(loss.item())\n",
    "    print(f'Iter {i}: ', 'cross-correlation =', loss.item(), '\\n')\n",
    "\n",
    "display_scores(correlational_score)\n",
    "\n",
    "# single input    mp 10miles    0.087 + 0.02\n",
    "# single input    ep 10miles    0.104 + 0.03"
   ]
  },
  {
   "cell_type": "markdown",
   "metadata": {},
   "source": [
    "## Data Loading Energy\n",
    "\n",
    "Load original dataset and preprocess the loaded data."
   ]
  },
  {
   "cell_type": "code",
   "execution_count": 11,
   "metadata": {},
   "outputs": [
    {
     "name": "stdout",
     "output_type": "stream",
     "text": [
      "ori shape is:  (19712, 24, 28)\n",
      "fake shape is:  (552160, 24, 1)\n",
      "ori shape is:  (551936, 24, 1)\n",
      "fake shape is:  (552160, 24, 1)\n"
     ]
    }
   ],
   "source": [
    "# iterations = 5\n",
    "# ori_data = np.load('../toy_exp/samples/sine_ground_truth_24_train.npy')\n",
    "# # ori_data = np.load('../OUTPUT/{dataset_name}/samples/{dataset_name}_norm_truth_{seq_length}_train.npy')  # Uncomment the line if dataset other than Sine is used.\n",
    "# fake_data = np.load('../toy_exp/ddpm_fake_sines.npy')\n",
    "\n",
    "\n",
    "iterations = 5\n",
    "# ori_data = np.load('../toy_exp/samples/sine_ground_truth_24_train.npy')\n",
    "# ori_data = np.load('../OUTPUT/test_ep/samples/etth_norm_truth_24_train.npy')  # Uncomment the line if dataset other than Sine is used.\n",
    "# fake_data = np.load('../OUTPUT/test_ep/ddpm_fake_test_ep_milestone_10.npy')\n",
    "\n",
    "ori_data = np.load('../OUTPUT/energy/samples/energy_norm_truth_24_train.npy')  # Uncomment the line if dataset other than Sine is used.\n",
    "fake_data = np.load('../OUTPUT/energy/ddpm_fake_energy_milestone_20.npy')\n",
    "\n",
    "print('ori shape is: ', ori_data.shape)\n",
    "print('fake shape is: ', fake_data.shape)\n",
    "b,t,n = ori_data.shape\n",
    "\n",
    "\n",
    "ori_data = ori_data.transpose(2, 0, 1).reshape(b * n, t, 1)\n",
    "\n",
    "# fake_data = fake_data[:ori_data.shape[0]*ori_data.shape[2]]\n",
    "# fake_data = fake_data.reshape(n, b, t).transpose(1, 2, 0)\n",
    "\n",
    "print('ori shape is: ', ori_data.shape)\n",
    "print('fake shape is: ', fake_data.shape)"
   ]
  },
  {
   "cell_type": "markdown",
   "metadata": {},
   "source": [
    "\n",
    "\n",
    "\n",
    "\n",
    "\n",
    "\n",
    "## Context-FID Score\n",
    "\n",
    "- The Frechet Inception distance-like score is based on unsupervised time series embeddings. It is able to score the fit of the fixed length synthetic samples into their context of (often much longer) true time series.\n",
    "\n",
    "- The lowest scoring models correspond to the best performing models in downstream tasks"
   ]
  },
  {
   "cell_type": "code",
   "execution_count": 12,
   "metadata": {},
   "outputs": [
    {
     "name": "stdout",
     "output_type": "stream",
     "text": [
      "Iter 0:  context-fid = 0.03313546176615627 \n",
      "\n",
      "Iter 1:  context-fid = 0.033700654755642094 \n",
      "\n",
      "Iter 2:  context-fid = 0.03686725740685956 \n",
      "\n",
      "Iter 3:  context-fid = 0.03337610062454661 \n",
      "\n",
      "Iter 4:  context-fid = 0.03404903406211731 \n",
      "\n",
      "Final Score:  0.03422570172306437 ± 0.0018825800024332103\n",
      "Iter 0:  context-fid = 0.03405157638952414 \n",
      "\n",
      "Iter 1:  context-fid = 0.02911736382729563 \n",
      "\n",
      "Iter 2:  context-fid = 0.030531896600345776 \n",
      "\n",
      "Iter 3:  context-fid = 0.03259609961619503 \n",
      "\n",
      "Iter 4:  context-fid = 0.03186650565312128 \n",
      "\n",
      "Final Score:  0.03163268841729637 ± 0.00235363716350389\n",
      "Iter 0:  context-fid = 0.03847710655623514 \n",
      "\n",
      "Iter 1:  context-fid = 0.03196264700462169 \n",
      "\n",
      "Iter 2:  context-fid = 0.03800480703789828 \n",
      "\n",
      "Iter 3:  context-fid = 0.0377112927799391 \n",
      "\n",
      "Iter 4:  context-fid = 0.035297786432300866 \n",
      "\n",
      "Final Score:  0.03629072796219902 ± 0.003369381750713639\n"
     ]
    }
   ],
   "source": [
    "for j in range(3):\n",
    "\n",
    "    context_fid_score = []\n",
    "\n",
    "    for i in range(iterations):\n",
    "        context_fid = Context_FID(ori_data[:], fake_data[:ori_data.shape[0]])\n",
    "        context_fid_score.append(context_fid)\n",
    "        print(f'Iter {i}: ', 'context-fid =', context_fid, '\\n')\n",
    "\n",
    "    display_scores(context_fid_score)\n",
    "\n",
    "# Seed 12345 :  mp  10mile  0.292   0.309\n",
    "# seed 12345 :  ep  10mile  0.151\n",
    "\n",
    "\n",
    "# mp 24 是0.047， 96 就0.2了应该，但是gpt的24是0.02\n",
    "\n",
    "#  ep 24 是  \n"
   ]
  },
  {
   "cell_type": "markdown",
   "metadata": {},
   "source": [
    "## Correlational Score\n",
    "\n",
    "- The metric uses the absolute error of the auto-correlation estimator by real data and synthetic data as the metric to assess the temporal dependency.\n",
    "\n",
    "- For d > 1, it uses the l1-norm of the difference between cross correlation matrices."
   ]
  },
  {
   "cell_type": "code",
   "execution_count": 13,
   "metadata": {},
   "outputs": [],
   "source": [
    "def random_choice(size, num_select=100):\n",
    "    select_idx = np.random.randint(low=0, high=size, size=(num_select,))\n",
    "    return select_idx"
   ]
  },
  {
   "cell_type": "code",
   "execution_count": 14,
   "metadata": {},
   "outputs": [
    {
     "name": "stdout",
     "output_type": "stream",
     "text": [
      "Iter 0:  cross-correlation = 6.106226635438361e-16 \n",
      "\n",
      "Iter 1:  cross-correlation = 2.55351295663786e-16 \n",
      "\n",
      "Iter 2:  cross-correlation = 2.7755575615628914e-15 \n",
      "\n",
      "Iter 3:  cross-correlation = 1.042499420123022e-14 \n",
      "\n",
      "Iter 4:  cross-correlation = 1.3655743202889425e-14 \n",
      "\n",
      "Final Score:  5.5444537849780315e-15 ± 7.593381226140188e-15\n"
     ]
    }
   ],
   "source": [
    "x_real = torch.from_numpy(ori_data)\n",
    "x_fake = torch.from_numpy(fake_data)\n",
    "\n",
    "correlational_score = []\n",
    "size = int(x_real.shape[0] / iterations)\n",
    "\n",
    "for i in range(iterations):\n",
    "    real_idx = random_choice(x_real.shape[0], size)\n",
    "    fake_idx = random_choice(x_fake.shape[0], size)\n",
    "    corr = CrossCorrelLoss(x_real[real_idx, :, :], name='CrossCorrelLoss')\n",
    "    loss = corr.compute(x_fake[fake_idx, :, :])\n",
    "    correlational_score.append(loss.item())\n",
    "    print(f'Iter {i}: ', 'cross-correlation =', loss.item(), '\\n')\n",
    "\n",
    "display_scores(correlational_score)\n",
    "\n",
    "# single input    mp 10miles    0.087 + 0.02\n",
    "# single input    ep 10miles    0.104 + 0.03"
   ]
  },
  {
   "cell_type": "code",
   "execution_count": null,
   "metadata": {},
   "outputs": [],
   "source": []
  }
 ],
 "metadata": {
  "kernelspec": {
   "display_name": "torch201",
   "language": "python",
   "name": "torch201"
  },
  "language_info": {
   "codemirror_mode": {
    "name": "ipython",
    "version": 3
   },
   "file_extension": ".py",
   "mimetype": "text/x-python",
   "name": "python",
   "nbconvert_exporter": "python",
   "pygments_lexer": "ipython3",
   "version": "3.9.19"
  }
 },
 "nbformat": 4,
 "nbformat_minor": 2
}
