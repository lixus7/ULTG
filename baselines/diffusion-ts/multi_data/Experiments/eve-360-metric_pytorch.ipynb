{
 "cells": [
  {
   "cell_type": "markdown",
   "metadata": {},
   "source": [
    "# Context-FID Score Presentation\n",
    "## Necessary packages and functions call\n",
    "\n",
    "- Context-FID score: A useful metric measures how well the the synthetic time series windows ”fit” into the local context of the time series"
   ]
  },
  {
   "cell_type": "code",
   "execution_count": 1,
   "metadata": {
    "ExecuteTime": {
     "end_time": "2025-01-19T13:21:02.060415Z",
     "start_time": "2025-01-19T13:20:59.255771Z"
    }
   },
   "outputs": [],
   "source": [
    "import os\n",
    "import torch\n",
    "import numpy as np\n",
    "import sys\n",
    "sys.path.append(os.path.join(os.path.dirname('__file__'), '../'))\n",
    "from Utils.context_fid import Context_FID\n",
    "from Utils.metric_utils import display_scores\n",
    "from Utils.cross_correlation import CrossCorrelLoss"
   ]
  },
  {
   "cell_type": "markdown",
   "metadata": {},
   "source": [
    "## Data Loading\n",
    "\n",
    "Load original dataset and preprocess the loaded data."
   ]
  },
  {
   "cell_type": "code",
   "execution_count": 2,
   "metadata": {
    "ExecuteTime": {
     "end_time": "2025-01-19T13:21:02.072311Z",
     "start_time": "2025-01-19T13:21:02.063100Z"
    }
   },
   "outputs": [],
   "source": [
    "# iterations = 5\n",
    "# ori_data = np.load('../toy_exp/samples/sine_ground_truth_24_train.npy')\n",
    "# # ori_data = np.load('../OUTPUT/{dataset_name}/samples/{dataset_name}_norm_truth_{seq_length}_train.npy')  # Uncomment the line if dataset other than Sine is used.\n",
    "# fake_data = np.load('../toy_exp/ddpm_fake_sines.npy')\n",
    "\n",
    "\n",
    "iterations = 5\n",
    "# ori_data = np.load('../toy_exp/samples/sine_ground_truth_24_train.npy')\n",
    "ori_data = np.load('../OUTPUT/test/samples/evening_peak_etth_norm_truth_24_train.npy')  # Uncomment the line if dataset other than Sine is used.\n",
    "fake_data = np.load('../OUTPUT/test/ddpm_fake_evening_peak_etth_milestone_360.npy')"
   ]
  },
  {
   "cell_type": "markdown",
   "metadata": {},
   "source": [
    "## Context-FID Score\n",
    "\n",
    "- The Frechet Inception distance-like score is based on unsupervised time series embeddings. It is able to score the fit of the fixed length synthetic samples into their context of (often much longer) true time series.\n",
    "\n",
    "- The lowest scoring models correspond to the best performing models in downstream tasks"
   ]
  },
  {
   "cell_type": "code",
   "execution_count": null,
   "metadata": {
    "ExecuteTime": {
     "end_time": "2025-01-19T13:56:22.048393Z",
     "start_time": "2025-01-19T13:21:02.074395Z"
    },
    "scrolled": true
   },
   "outputs": [
    {
     "name": "stderr",
     "output_type": "stream",
     "text": [
      "/mnt/data728/duyin/anaconda3/envs/torch201/lib/python3.9/site-packages/torch/nn/modules/conv.py:309: UserWarning: Applied workaround for CuDNN issue, install nvrtc.so (Triggered internally at /opt/conda/conda-bld/pytorch_1682343997789/work/aten/src/ATen/native/cudnn/Conv_v8.cpp:80.)\n",
      "  return F.conv1d(input, weight, bias, self.stride,\n"
     ]
    },
    {
     "name": "stdout",
     "output_type": "stream",
     "text": [
      "Iter 0:  context-fid = 0.5587078022792721 \n",
      "\n",
      "Iter 1:  context-fid = 0.6253669329135995 \n",
      "\n",
      "Iter 2:  context-fid = 0.7053471196392455 \n",
      "\n",
      "Iter 3:  context-fid = 0.7902510481001057 \n",
      "\n",
      "Iter 4:  context-fid = 0.5882294264902405 \n",
      "\n",
      "Final Score:  0.6535804658844927 ± 0.11685209208770973\n",
      "Iter 0:  context-fid = 0.5272431748964616 \n",
      "\n",
      "Iter 1:  context-fid = 0.8284702200914066 \n",
      "\n",
      "Iter 2:  context-fid = 0.6234272503971788 \n",
      "\n",
      "Iter 3:  context-fid = 0.6849564110538824 \n",
      "\n",
      "Iter 4:  context-fid = 0.6511339024792067 \n",
      "\n",
      "Final Score:  0.6630461917836271 ± 0.13601632762747373\n",
      "Iter 0:  context-fid = 0.7256012849266877 \n",
      "\n",
      "Iter 1:  context-fid = 0.6399291726956633 \n",
      "\n",
      "Iter 2:  context-fid = 0.502985731103273 \n",
      "\n",
      "Iter 3:  context-fid = 0.5861183248789517 \n",
      "\n",
      "Iter 4:  context-fid = 0.5166814442365177 \n",
      "\n",
      "Final Score:  0.5942631915682186 ± 0.11405736141077025\n",
      "Iter 0:  context-fid = 0.6871807016860628 \n",
      "\n",
      "Iter 1:  context-fid = 0.4962259209427571 \n",
      "\n",
      "Iter 2:  context-fid = 0.5650345049803356 \n",
      "\n",
      "Iter 3:  context-fid = 0.5553992649738113 \n",
      "\n",
      "Iter 4:  context-fid = 0.5420278322702532 \n",
      "\n",
      "Final Score:  0.5691736449706439 ± 0.08821670352222323\n",
      "Iter 0:  context-fid = 0.6462539706609591 \n",
      "\n",
      "Iter 1:  context-fid = 0.6540687569500345 \n",
      "\n",
      "Iter 2:  context-fid = 0.6752432773201865 \n",
      "\n",
      "Iter 3:  context-fid = 0.59060516294497 \n",
      "\n",
      "Iter 4:  context-fid = 0.5013981526951541 \n",
      "\n",
      "Final Score:  0.6135138641142609 ± 0.08696497040129711\n",
      "Iter 0:  context-fid = 0.6730860358783568 \n",
      "\n",
      "Iter 1:  context-fid = 0.9055088763737247 \n",
      "\n",
      "Iter 2:  context-fid = 0.6582959190838276 \n",
      "\n",
      "Iter 3:  context-fid = 0.47440042455321074 \n",
      "\n",
      "Iter 4:  context-fid = 0.7042092146258867 \n",
      "\n",
      "Final Score:  0.6831000941030012 ± 0.19052801202732864\n",
      "Iter 0:  context-fid = 0.6313075279433396 \n",
      "\n",
      "Iter 1:  context-fid = 0.3790675286237565 \n",
      "\n",
      "Iter 2:  context-fid = 0.7271039205917911 \n",
      "\n",
      "Iter 3:  context-fid = 0.5705945665651694 \n",
      "\n",
      "Iter 4:  context-fid = 0.5346131520642585 \n",
      "\n",
      "Final Score:  0.5685373391576631 ± 0.15966050007706203\n",
      "Iter 0:  context-fid = 0.8777055557648494 \n",
      "\n",
      "Iter 1:  context-fid = 0.49531794889210073 \n",
      "\n",
      "Iter 2:  context-fid = 0.4756448574338296 \n",
      "\n",
      "Iter 3:  context-fid = 0.4569655070054189 \n",
      "\n",
      "Iter 4:  context-fid = 0.7966497739206247 \n",
      "\n",
      "Final Score:  0.6204567286033648 ± 0.24878289852380286\n",
      "Iter 0:  context-fid = 0.5549819186923959 \n",
      "\n",
      "Iter 1:  context-fid = 0.5610494278081007 \n",
      "\n",
      "Iter 2:  context-fid = 0.6737201251061966 \n",
      "\n",
      "Iter 3:  context-fid = 0.5423798110222374 \n",
      "\n",
      "Iter 4:  context-fid = 0.5309725494386353 \n",
      "\n",
      "Final Score:  0.5726207664135132 ± 0.07163872551502046\n",
      "Iter 0:  context-fid = 0.5613728199187118 \n",
      "\n",
      "Iter 1:  context-fid = 0.7573412033990033 \n",
      "\n",
      "Iter 2:  context-fid = 0.5293076301833868 \n",
      "\n",
      "Iter 3:  context-fid = 0.521121681503029 \n",
      "\n",
      "Iter 4:  context-fid = 0.5816882693212643 \n",
      "\n",
      "Final Score:  0.590166320865079 ± 0.11993363431604077\n"
     ]
    }
   ],
   "source": [
    "for j in range(10):\n",
    "\n",
    "    context_fid_score = []\n",
    "\n",
    "    for i in range(iterations):\n",
    "        context_fid = Context_FID(ori_data[:], fake_data[:ori_data.shape[0]])\n",
    "        context_fid_score.append(context_fid)\n",
    "        print(f'Iter {i}: ', 'context-fid =', context_fid, '\\n')\n",
    "\n",
    "    display_scores(context_fid_score)\n",
    "\n",
    "# doube input, ep, 0.65\n"
   ]
  },
  {
   "cell_type": "markdown",
   "metadata": {},
   "source": [
    "## Correlational Score\n",
    "\n",
    "- The metric uses the absolute error of the auto-correlation estimator by real data and synthetic data as the metric to assess the temporal dependency.\n",
    "\n",
    "- For d > 1, it uses the l1-norm of the difference between cross correlation matrices."
   ]
  },
  {
   "cell_type": "code",
   "execution_count": 4,
   "metadata": {
    "ExecuteTime": {
     "end_time": "2025-01-19T13:56:22.054804Z",
     "start_time": "2025-01-19T13:56:22.051446Z"
    }
   },
   "outputs": [],
   "source": [
    "def random_choice(size, num_select=100):\n",
    "    select_idx = np.random.randint(low=0, high=size, size=(num_select,))\n",
    "    return select_idx"
   ]
  },
  {
   "cell_type": "code",
   "execution_count": 5,
   "metadata": {
    "ExecuteTime": {
     "end_time": "2025-01-19T13:56:22.190848Z",
     "start_time": "2025-01-19T13:56:22.056663Z"
    }
   },
   "outputs": [
    {
     "name": "stdout",
     "output_type": "stream",
     "text": [
      "Iter 0:  cross-correlation = 0.20556674196073937 \n",
      "\n",
      "Iter 1:  cross-correlation = 0.20440501776632192 \n",
      "\n",
      "Iter 2:  cross-correlation = 0.21036383697730177 \n",
      "\n",
      "Iter 3:  cross-correlation = 0.21056121149998147 \n",
      "\n",
      "Iter 4:  cross-correlation = 0.18618610341975078 \n",
      "\n",
      "Final Score:  0.20341658232481907 ± 0.01244454091592246\n"
     ]
    }
   ],
   "source": [
    "x_real = torch.from_numpy(ori_data)\n",
    "x_fake = torch.from_numpy(fake_data)\n",
    "\n",
    "correlational_score = []\n",
    "size = int(x_real.shape[0] / iterations)\n",
    "\n",
    "for i in range(iterations):\n",
    "    real_idx = random_choice(x_real.shape[0], size)\n",
    "    fake_idx = random_choice(x_fake.shape[0], size)\n",
    "    corr = CrossCorrelLoss(x_real[real_idx, :, :], name='CrossCorrelLoss')\n",
    "    loss = corr.compute(x_fake[fake_idx, :, :])\n",
    "    correlational_score.append(loss.item())\n",
    "    print(f'Iter {i}: ', 'cross-correlation =', loss.item(), '\\n')\n",
    "\n",
    "display_scores(correlational_score)"
   ]
  }
 ],
 "metadata": {
  "kernelspec": {
   "display_name": "torch201",
   "language": "python",
   "name": "torch201"
  },
  "language_info": {
   "codemirror_mode": {
    "name": "ipython",
    "version": 3
   },
   "file_extension": ".py",
   "mimetype": "text/x-python",
   "name": "python",
   "nbconvert_exporter": "python",
   "pygments_lexer": "ipython3",
   "version": "3.9.19"
  }
 },
 "nbformat": 4,
 "nbformat_minor": 2
}
