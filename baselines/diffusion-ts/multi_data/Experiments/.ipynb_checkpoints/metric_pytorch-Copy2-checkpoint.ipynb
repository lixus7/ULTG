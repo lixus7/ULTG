{
 "cells": [
  {
   "cell_type": "markdown",
   "metadata": {},
   "source": [
    "# Context-FID Score Presentation\n",
    "## Necessary packages and functions call\n",
    "\n",
    "- Context-FID score: A useful metric measures how well the the synthetic time series windows ”fit” into the local context of the time series"
   ]
  },
  {
   "cell_type": "code",
   "execution_count": 1,
   "metadata": {
    "ExecuteTime": {
     "end_time": "2025-01-13T08:03:43.759645Z",
     "start_time": "2025-01-13T08:03:40.921732Z"
    }
   },
   "outputs": [],
   "source": [
    "import os\n",
    "import torch\n",
    "import numpy as np\n",
    "import sys\n",
    "sys.path.append(os.path.join(os.path.dirname('__file__'), '../'))\n",
    "from Utils.context_fid import Context_FID\n",
    "from Utils.metric_utils import display_scores\n",
    "from Utils.cross_correlation import CrossCorrelLoss"
   ]
  },
  {
   "cell_type": "markdown",
   "metadata": {},
   "source": [
    "## Data Loading\n",
    "\n",
    "Load original dataset and preprocess the loaded data."
   ]
  },
  {
   "cell_type": "code",
   "execution_count": 2,
   "metadata": {
    "ExecuteTime": {
     "end_time": "2025-01-13T08:03:43.821525Z",
     "start_time": "2025-01-13T08:03:43.765307Z"
    }
   },
   "outputs": [],
   "source": [
    "# iterations = 5\n",
    "# ori_data = np.load('../toy_exp/samples/sine_ground_truth_24_train.npy')\n",
    "# # ori_data = np.load('../OUTPUT/{dataset_name}/samples/{dataset_name}_norm_truth_{seq_length}_train.npy')  # Uncomment the line if dataset other than Sine is used.\n",
    "# fake_data = np.load('../toy_exp/ddpm_fake_sines.npy')\n",
    "\n",
    "\n",
    "iterations = 5\n",
    "# ori_data = np.load('../toy_exp/samples/sine_ground_truth_24_train.npy')\n",
    "ori_data = np.load('../OUTPUT/test/samples/etth_norm_truth_24_train.npy')  # Uncomment the line if dataset other than Sine is used.\n",
    "fake_data = np.load('../OUTPUT/test/ddpm_fake_test_milestone_20.npy')"
   ]
  },
  {
   "cell_type": "markdown",
   "metadata": {},
   "source": [
    "## Context-FID Score\n",
    "\n",
    "- The Frechet Inception distance-like score is based on unsupervised time series embeddings. It is able to score the fit of the fixed length synthetic samples into their context of (often much longer) true time series.\n",
    "\n",
    "- The lowest scoring models correspond to the best performing models in downstream tasks"
   ]
  },
  {
   "cell_type": "code",
   "execution_count": 3,
   "metadata": {
    "ExecuteTime": {
     "end_time": "2025-01-13T08:37:52.696831Z",
     "start_time": "2025-01-13T08:03:43.823365Z"
    }
   },
   "outputs": [
    {
     "name": "stderr",
     "output_type": "stream",
     "text": [
      "/mnt/data728/duyin/anaconda3/envs/torch201/lib/python3.9/site-packages/torch/nn/modules/conv.py:309: UserWarning: Applied workaround for CuDNN issue, install nvrtc.so (Triggered internally at /opt/conda/conda-bld/pytorch_1682343997789/work/aten/src/ATen/native/cudnn/Conv_v8.cpp:80.)\n",
      "  return F.conv1d(input, weight, bias, self.stride,\n"
     ]
    },
    {
     "name": "stdout",
     "output_type": "stream",
     "text": [
      "Iter 0:  context-fid = 0.16796496913405862 \n",
      "\n",
      "Iter 1:  context-fid = 0.17087984365343611 \n",
      "\n",
      "Iter 2:  context-fid = 0.17319278334112517 \n",
      "\n",
      "Iter 3:  context-fid = 0.17513225210205968 \n",
      "\n",
      "Iter 4:  context-fid = 0.17792281840102545 \n",
      "\n",
      "Final Score:  0.173018533326341 ± 0.004755049785631681\n",
      "Iter 0:  context-fid = 0.166637712333968 \n",
      "\n",
      "Iter 1:  context-fid = 0.16532425819459418 \n",
      "\n",
      "Iter 2:  context-fid = 0.15354500373971192 \n",
      "\n",
      "Iter 3:  context-fid = 0.16695935898150005 \n",
      "\n",
      "Iter 4:  context-fid = 0.17789715580884646 \n",
      "\n",
      "Final Score:  0.16607269781172412 ± 0.010724888453311267\n",
      "Iter 0:  context-fid = 0.166433867512556 \n",
      "\n",
      "Iter 1:  context-fid = 0.1510761331750753 \n",
      "\n",
      "Iter 2:  context-fid = 0.16826004140483636 \n",
      "\n",
      "Iter 3:  context-fid = 0.17206037786701495 \n",
      "\n",
      "Iter 4:  context-fid = 0.17465409173067376 \n",
      "\n",
      "Final Score:  0.1664969023380313 ± 0.011420689400198013\n",
      "Iter 0:  context-fid = 0.16691986702905665 \n",
      "\n",
      "Iter 1:  context-fid = 0.1599842866400339 \n",
      "\n",
      "Iter 2:  context-fid = 0.15094596443271363 \n",
      "\n",
      "Iter 3:  context-fid = 0.17479185074945186 \n",
      "\n",
      "Iter 4:  context-fid = 0.1751536012745944 \n",
      "\n",
      "Final Score:  0.16555911402517007 ± 0.01278027724723754\n",
      "Iter 0:  context-fid = 0.1355149002874983 \n",
      "\n",
      "Iter 1:  context-fid = 0.18266376324996184 \n",
      "\n",
      "Iter 2:  context-fid = 0.18974341446033746 \n",
      "\n",
      "Iter 3:  context-fid = 0.170165071500193 \n",
      "\n",
      "Iter 4:  context-fid = 0.14781886562820254 \n",
      "\n",
      "Final Score:  0.16518120302523864 ± 0.0285536920483957\n",
      "Iter 0:  context-fid = 0.15996261242479082 \n",
      "\n",
      "Iter 1:  context-fid = 0.16798924772025375 \n",
      "\n",
      "Iter 2:  context-fid = 0.14820142101569217 \n",
      "\n",
      "Iter 3:  context-fid = 0.16691709838660163 \n",
      "\n",
      "Iter 4:  context-fid = 0.15966621395529668 \n",
      "\n",
      "Final Score:  0.16054731870052702 ± 0.009806312481940038\n",
      "Iter 0:  context-fid = 0.18116141666851368 \n",
      "\n",
      "Iter 1:  context-fid = 0.16637221849462985 \n",
      "\n",
      "Iter 2:  context-fid = 0.19099242592659893 \n",
      "\n",
      "Iter 3:  context-fid = 0.14522339165527076 \n",
      "\n",
      "Iter 4:  context-fid = 0.17258178565317084 \n",
      "\n",
      "Final Score:  0.1712662476796368 ± 0.02142499224754527\n",
      "Iter 0:  context-fid = 0.17275846039350118 \n",
      "\n",
      "Iter 1:  context-fid = 0.18347140979447846 \n",
      "\n",
      "Iter 2:  context-fid = 0.14193354408876438 \n",
      "\n",
      "Iter 3:  context-fid = 0.16741658577823837 \n",
      "\n",
      "Iter 4:  context-fid = 0.16146063951218895 \n",
      "\n",
      "Final Score:  0.16540812791343426 ± 0.019145216677913236\n",
      "Iter 0:  context-fid = 0.15266580926342788 \n",
      "\n",
      "Iter 1:  context-fid = 0.15915469811720184 \n",
      "\n",
      "Iter 2:  context-fid = 0.16913937357539022 \n",
      "\n",
      "Iter 3:  context-fid = 0.15991330243702517 \n",
      "\n",
      "Iter 4:  context-fid = 0.17057998187326714 \n",
      "\n",
      "Final Score:  0.16229063305326247 ± 0.009286401065692024\n",
      "Iter 0:  context-fid = 0.15906212303574235 \n",
      "\n",
      "Iter 1:  context-fid = 0.16116223747604977 \n",
      "\n",
      "Iter 2:  context-fid = 0.17181034825406766 \n",
      "\n",
      "Iter 3:  context-fid = 0.15997282678516472 \n",
      "\n",
      "Iter 4:  context-fid = 0.16451968038513598 \n",
      "\n",
      "Final Score:  0.1633054431872321 ± 0.006437318680567602\n"
     ]
    }
   ],
   "source": [
    "for j in range(10):\n",
    "\n",
    "    context_fid_score = []\n",
    "\n",
    "    for i in range(iterations):\n",
    "        context_fid = Context_FID(ori_data[:], fake_data[:ori_data.shape[0]])\n",
    "        context_fid_score.append(context_fid)\n",
    "        print(f'Iter {i}: ', 'context-fid =', context_fid, '\\n')\n",
    "\n",
    "    display_scores(context_fid_score)\n",
    "\n",
    "# Seed 12345 Final Score:  0.13663267402399055 ± 0.005536055372540525\n",
    "# Seed 12345 Final Score:  0.129\n",
    "# Seed 12345 Final Score:  0.135\n",
    "\n",
    "# Seed 2025 Final Score:  0.148\n",
    "# Seed 2025 Final Score:  0.147\n",
    "# Seed 2025 Final Score:  0.142\n",
    "# Seed 2025 Final Score:  0.148"
   ]
  },
  {
   "cell_type": "markdown",
   "metadata": {},
   "source": [
    "## Correlational Score\n",
    "\n",
    "- The metric uses the absolute error of the auto-correlation estimator by real data and synthetic data as the metric to assess the temporal dependency.\n",
    "\n",
    "- For d > 1, it uses the l1-norm of the difference between cross correlation matrices."
   ]
  },
  {
   "cell_type": "code",
   "execution_count": 4,
   "metadata": {
    "ExecuteTime": {
     "end_time": "2025-01-13T08:37:52.707942Z",
     "start_time": "2025-01-13T08:37:52.702469Z"
    }
   },
   "outputs": [],
   "source": [
    "def random_choice(size, num_select=100):\n",
    "    select_idx = np.random.randint(low=0, high=size, size=(num_select,))\n",
    "    return select_idx"
   ]
  },
  {
   "cell_type": "code",
   "execution_count": 5,
   "metadata": {
    "ExecuteTime": {
     "end_time": "2025-01-13T08:37:52.888739Z",
     "start_time": "2025-01-13T08:37:52.709781Z"
    }
   },
   "outputs": [
    {
     "name": "stdout",
     "output_type": "stream",
     "text": [
      "Iter 0:  cross-correlation = 0.0718932855946687 \n",
      "\n",
      "Iter 1:  cross-correlation = 0.05713320384341334 \n",
      "\n",
      "Iter 2:  cross-correlation = 0.0571319627625307 \n",
      "\n",
      "Iter 3:  cross-correlation = 0.059006567631371465 \n",
      "\n",
      "Iter 4:  cross-correlation = 0.05376424878633949 \n",
      "\n",
      "Final Score:  0.05978585372366474 ± 0.008725652020874072\n"
     ]
    }
   ],
   "source": [
    "x_real = torch.from_numpy(ori_data)\n",
    "x_fake = torch.from_numpy(fake_data)\n",
    "\n",
    "correlational_score = []\n",
    "size = int(x_real.shape[0] / iterations)\n",
    "\n",
    "for i in range(iterations):\n",
    "    real_idx = random_choice(x_real.shape[0], size)\n",
    "    fake_idx = random_choice(x_fake.shape[0], size)\n",
    "    corr = CrossCorrelLoss(x_real[real_idx, :, :], name='CrossCorrelLoss')\n",
    "    loss = corr.compute(x_fake[fake_idx, :, :])\n",
    "    correlational_score.append(loss.item())\n",
    "    print(f'Iter {i}: ', 'cross-correlation =', loss.item(), '\\n')\n",
    "\n",
    "display_scores(correlational_score)"
   ]
  }
 ],
 "metadata": {
  "kernelspec": {
   "display_name": "torch201",
   "language": "python",
   "name": "torch201"
  },
  "language_info": {
   "codemirror_mode": {
    "name": "ipython",
    "version": 3
   },
   "file_extension": ".py",
   "mimetype": "text/x-python",
   "name": "python",
   "nbconvert_exporter": "python",
   "pygments_lexer": "ipython3",
   "version": "3.9.19"
  }
 },
 "nbformat": 4,
 "nbformat_minor": 2
}
