{
 "cells": [
  {
   "cell_type": "markdown",
   "metadata": {},
   "source": [
    "# Context-FID Score Presentation\n",
    "## Necessary packages and functions call\n",
    "\n",
    "- Context-FID score: A useful metric measures how well the the synthetic time series windows ”fit” into the local context of the time series"
   ]
  },
  {
   "cell_type": "code",
   "execution_count": 1,
   "metadata": {
    "ExecuteTime": {
     "end_time": "2025-01-16T16:01:23.272390Z",
     "start_time": "2025-01-16T16:01:20.148983Z"
    }
   },
   "outputs": [],
   "source": [
    "import os\n",
    "import torch\n",
    "import numpy as np\n",
    "import sys\n",
    "sys.path.append(os.path.join(os.path.dirname('__file__'), '../'))\n",
    "from Utils.context_fid import Context_FID\n",
    "from Utils.metric_utils import display_scores\n",
    "from Utils.cross_correlation import CrossCorrelLoss"
   ]
  },
  {
   "cell_type": "markdown",
   "metadata": {},
   "source": [
    "## Data Loading\n",
    "\n",
    "Load original dataset and preprocess the loaded data."
   ]
  },
  {
   "cell_type": "code",
   "execution_count": 2,
   "metadata": {
    "ExecuteTime": {
     "end_time": "2025-01-16T16:01:23.308525Z",
     "start_time": "2025-01-16T16:01:23.275969Z"
    }
   },
   "outputs": [],
   "source": [
    "# iterations = 5\n",
    "# ori_data = np.load('../toy_exp/samples/sine_ground_truth_24_train.npy')\n",
    "# # ori_data = np.load('../OUTPUT/{dataset_name}/samples/{dataset_name}_norm_truth_{seq_length}_train.npy')  # Uncomment the line if dataset other than Sine is used.\n",
    "# fake_data = np.load('../toy_exp/ddpm_fake_sines.npy')\n",
    "\n",
    "\n",
    "iterations = 5\n",
    "# ori_data = np.load('../toy_exp/samples/sine_ground_truth_24_train.npy')\n",
    "ori_data = np.load('../OUTPUT/test/samples/etth_norm_truth_24_train.npy')  # Uncomment the line if dataset other than Sine is used.\n",
    "fake_data = np.load('../OUTPUT/test/ddpm_fake_test_milestone_160.npy')"
   ]
  },
  {
   "cell_type": "markdown",
   "metadata": {},
   "source": [
    "## Context-FID Score\n",
    "\n",
    "- The Frechet Inception distance-like score is based on unsupervised time series embeddings. It is able to score the fit of the fixed length synthetic samples into their context of (often much longer) true time series.\n",
    "\n",
    "- The lowest scoring models correspond to the best performing models in downstream tasks"
   ]
  },
  {
   "cell_type": "code",
   "execution_count": 3,
   "metadata": {
    "ExecuteTime": {
     "end_time": "2025-01-16T16:36:21.919978Z",
     "start_time": "2025-01-16T16:01:23.311496Z"
    }
   },
   "outputs": [
    {
     "name": "stderr",
     "output_type": "stream",
     "text": [
      "/mnt/data728/duyin/anaconda3/envs/torch201/lib/python3.9/site-packages/torch/nn/modules/conv.py:309: UserWarning: Applied workaround for CuDNN issue, install nvrtc.so (Triggered internally at /opt/conda/conda-bld/pytorch_1682343997789/work/aten/src/ATen/native/cudnn/Conv_v8.cpp:80.)\n",
      "  return F.conv1d(input, weight, bias, self.stride,\n"
     ]
    },
    {
     "name": "stdout",
     "output_type": "stream",
     "text": [
      "Iter 0:  context-fid = 0.16474792846484876 \n",
      "\n",
      "Iter 1:  context-fid = 0.16811397419808793 \n",
      "\n",
      "Iter 2:  context-fid = 0.1824254708794781 \n",
      "\n",
      "Iter 3:  context-fid = 0.16255857379422955 \n",
      "\n",
      "Iter 4:  context-fid = 0.1453223362763959 \n",
      "\n",
      "Final Score:  0.16463365672260805 ± 0.01649483426092754\n",
      "Iter 0:  context-fid = 0.17559021980752426 \n",
      "\n",
      "Iter 1:  context-fid = 0.1575648335449431 \n",
      "\n",
      "Iter 2:  context-fid = 0.1774910371024278 \n",
      "\n",
      "Iter 3:  context-fid = 0.17877919032255912 \n",
      "\n",
      "Iter 4:  context-fid = 0.17131715869975123 \n",
      "\n",
      "Final Score:  0.17214848789544113 ± 0.01071234141692581\n",
      "Iter 0:  context-fid = 0.17419952683418816 \n",
      "\n",
      "Iter 1:  context-fid = 0.17215209124950825 \n",
      "\n",
      "Iter 2:  context-fid = 0.17622987130835416 \n",
      "\n",
      "Iter 3:  context-fid = 0.16407577036970794 \n",
      "\n",
      "Iter 4:  context-fid = 0.17612293119522315 \n",
      "\n",
      "Final Score:  0.17255603819139637 ± 0.00623925181240658\n",
      "Iter 0:  context-fid = 0.18166308922282046 \n",
      "\n",
      "Iter 1:  context-fid = 0.15862391801744824 \n",
      "\n",
      "Iter 2:  context-fid = 0.19784979320516888 \n",
      "\n",
      "Iter 3:  context-fid = 0.16214300562896342 \n",
      "\n",
      "Iter 4:  context-fid = 0.18446982321085234 \n",
      "\n",
      "Final Score:  0.1769499258570507 ± 0.020314156842000126\n",
      "Iter 0:  context-fid = 0.17522500728682755 \n",
      "\n",
      "Iter 1:  context-fid = 0.16928428126737832 \n",
      "\n",
      "Iter 2:  context-fid = 0.16871297527906148 \n",
      "\n",
      "Iter 3:  context-fid = 0.16458468713789076 \n",
      "\n",
      "Iter 4:  context-fid = 0.1971889545580996 \n",
      "\n",
      "Final Score:  0.17499918110585153 ± 0.016106674613594794\n",
      "Iter 0:  context-fid = 0.18296465342344748 \n",
      "\n",
      "Iter 1:  context-fid = 0.17746646409340144 \n",
      "\n",
      "Iter 2:  context-fid = 0.1862871118923656 \n",
      "\n",
      "Iter 3:  context-fid = 0.15125456605000534 \n",
      "\n",
      "Iter 4:  context-fid = 0.18305934323492684 \n",
      "\n",
      "Final Score:  0.17620642773882933 ± 0.01776099715329936\n",
      "Iter 0:  context-fid = 0.1627790199441715 \n",
      "\n",
      "Iter 1:  context-fid = 0.16785158801001104 \n",
      "\n",
      "Iter 2:  context-fid = 0.1809985231782143 \n",
      "\n",
      "Iter 3:  context-fid = 0.1887384708228243 \n",
      "\n",
      "Iter 4:  context-fid = 0.16174965200615907 \n",
      "\n",
      "Final Score:  0.17242345079227606 ± 0.014790385253911298\n",
      "Iter 0:  context-fid = 0.15805382846117397 \n",
      "\n",
      "Iter 1:  context-fid = 0.16791829515015633 \n",
      "\n",
      "Iter 2:  context-fid = 0.1758998339872535 \n",
      "\n",
      "Iter 3:  context-fid = 0.16076699735674504 \n",
      "\n",
      "Iter 4:  context-fid = 0.15582477971110673 \n",
      "\n",
      "Final Score:  0.16369274693328711 ± 0.010184872456314775\n",
      "Iter 0:  context-fid = 0.18496355886420104 \n",
      "\n",
      "Iter 1:  context-fid = 0.1807422348970668 \n",
      "\n",
      "Iter 2:  context-fid = 0.16521159459941606 \n",
      "\n",
      "Iter 3:  context-fid = 0.16472860352055949 \n",
      "\n",
      "Iter 4:  context-fid = 0.16058846431126572 \n",
      "\n",
      "Final Score:  0.17124689123850184 ± 0.013471102597230717\n",
      "Iter 0:  context-fid = 0.16509500258589133 \n",
      "\n",
      "Iter 1:  context-fid = 0.1557803113062689 \n",
      "\n",
      "Iter 2:  context-fid = 0.1583358760621179 \n",
      "\n",
      "Iter 3:  context-fid = 0.16813032275054152 \n",
      "\n",
      "Iter 4:  context-fid = 0.15575714740403934 \n",
      "\n",
      "Final Score:  0.1606197320217718 ± 0.0070435774752750265\n"
     ]
    }
   ],
   "source": [
    "for j in range(10):\n",
    "\n",
    "    context_fid_score = []\n",
    "\n",
    "    for i in range(iterations):\n",
    "        context_fid = Context_FID(ori_data[:], fake_data[:ori_data.shape[0]])\n",
    "        context_fid_score.append(context_fid)\n",
    "        print(f'Iter {i}: ', 'context-fid =', context_fid, '\\n')\n",
    "\n",
    "    display_scores(context_fid_score)\n",
    "\n",
    "# Seed 12345 Final Score:  0.13663267402399055 ± 0.005536055372540525\n",
    "# Seed 12345 Final Score:  0.129\n",
    "# Seed 12345 Final Score:  0.135\n",
    "\n",
    "# Seed 2025 Final Score:  0.148\n",
    "# Seed 2025 Final Score:  0.147\n",
    "# Seed 2025 Final Score:  0.142\n",
    "# Seed 2025 Final Score:  0.148"
   ]
  },
  {
   "cell_type": "markdown",
   "metadata": {},
   "source": [
    "## Correlational Score\n",
    "\n",
    "- The metric uses the absolute error of the auto-correlation estimator by real data and synthetic data as the metric to assess the temporal dependency.\n",
    "\n",
    "- For d > 1, it uses the l1-norm of the difference between cross correlation matrices."
   ]
  },
  {
   "cell_type": "code",
   "execution_count": 4,
   "metadata": {
    "ExecuteTime": {
     "end_time": "2025-01-16T16:36:21.933417Z",
     "start_time": "2025-01-16T16:36:21.924155Z"
    }
   },
   "outputs": [],
   "source": [
    "def random_choice(size, num_select=100):\n",
    "    select_idx = np.random.randint(low=0, high=size, size=(num_select,))\n",
    "    return select_idx"
   ]
  },
  {
   "cell_type": "code",
   "execution_count": 5,
   "metadata": {
    "ExecuteTime": {
     "end_time": "2025-01-16T16:36:22.104825Z",
     "start_time": "2025-01-16T16:36:21.936894Z"
    }
   },
   "outputs": [
    {
     "name": "stdout",
     "output_type": "stream",
     "text": [
      "Iter 0:  cross-correlation = 0.056946870153898335 \n",
      "\n",
      "Iter 1:  cross-correlation = 0.06362271011734785 \n",
      "\n",
      "Iter 2:  cross-correlation = 0.06274121166100095 \n",
      "\n",
      "Iter 3:  cross-correlation = 0.060875938348152914 \n",
      "\n",
      "Iter 4:  cross-correlation = 0.048822957602235664 \n",
      "\n",
      "Final Score:  0.05860193757652714 ± 0.007498471591940866\n"
     ]
    }
   ],
   "source": [
    "x_real = torch.from_numpy(ori_data)\n",
    "x_fake = torch.from_numpy(fake_data)\n",
    "\n",
    "correlational_score = []\n",
    "size = int(x_real.shape[0] / iterations)\n",
    "\n",
    "for i in range(iterations):\n",
    "    real_idx = random_choice(x_real.shape[0], size)\n",
    "    fake_idx = random_choice(x_fake.shape[0], size)\n",
    "    corr = CrossCorrelLoss(x_real[real_idx, :, :], name='CrossCorrelLoss')\n",
    "    loss = corr.compute(x_fake[fake_idx, :, :])\n",
    "    correlational_score.append(loss.item())\n",
    "    print(f'Iter {i}: ', 'cross-correlation =', loss.item(), '\\n')\n",
    "\n",
    "display_scores(correlational_score)"
   ]
  }
 ],
 "metadata": {
  "kernelspec": {
   "display_name": "torch201",
   "language": "python",
   "name": "torch201"
  },
  "language_info": {
   "codemirror_mode": {
    "name": "ipython",
    "version": 3
   },
   "file_extension": ".py",
   "mimetype": "text/x-python",
   "name": "python",
   "nbconvert_exporter": "python",
   "pygments_lexer": "ipython3",
   "version": "3.9.19"
  }
 },
 "nbformat": 4,
 "nbformat_minor": 2
}
