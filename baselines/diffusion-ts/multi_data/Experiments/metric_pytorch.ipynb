{
 "cells": [
  {
   "cell_type": "markdown",
   "metadata": {},
   "source": [
    "# Context-FID Score Presentation\n",
    "## Necessary packages and functions call\n",
    "\n",
    "- Context-FID score: A useful metric measures how well the the synthetic time series windows ”fit” into the local context of the time series"
   ]
  },
  {
   "cell_type": "code",
   "execution_count": 1,
   "metadata": {
    "ExecuteTime": {
     "end_time": "2025-01-13T14:55:43.564514Z",
     "start_time": "2025-01-13T14:55:40.739106Z"
    }
   },
   "outputs": [],
   "source": [
    "import os\n",
    "import torch\n",
    "import numpy as np\n",
    "import sys\n",
    "sys.path.append(os.path.join(os.path.dirname('__file__'), '../'))\n",
    "from Utils.context_fid import Context_FID\n",
    "from Utils.metric_utils import display_scores\n",
    "from Utils.cross_correlation import CrossCorrelLoss"
   ]
  },
  {
   "cell_type": "markdown",
   "metadata": {},
   "source": [
    "## Data Loading\n",
    "\n",
    "Load original dataset and preprocess the loaded data."
   ]
  },
  {
   "cell_type": "code",
   "execution_count": 2,
   "metadata": {
    "ExecuteTime": {
     "end_time": "2025-01-13T14:55:43.589086Z",
     "start_time": "2025-01-13T14:55:43.567063Z"
    }
   },
   "outputs": [],
   "source": [
    "# iterations = 5\n",
    "# ori_data = np.load('../toy_exp/samples/sine_ground_truth_24_train.npy')\n",
    "# # ori_data = np.load('../OUTPUT/{dataset_name}/samples/{dataset_name}_norm_truth_{seq_length}_train.npy')  # Uncomment the line if dataset other than Sine is used.\n",
    "# fake_data = np.load('../toy_exp/ddpm_fake_sines.npy')\n",
    "\n",
    "\n",
    "iterations = 5\n",
    "# ori_data = np.load('../toy_exp/samples/sine_ground_truth_24_train.npy')\n",
    "ori_data = np.load('../OUTPUT/test/samples/etth_norm_truth_24_train.npy')  # Uncomment the line if dataset other than Sine is used.\n",
    "fake_data = np.load('../OUTPUT/test/ddpm_fake_test_milestone_90.npy')"
   ]
  },
  {
   "cell_type": "markdown",
   "metadata": {},
   "source": [
    "## Context-FID Score\n",
    "\n",
    "- The Frechet Inception distance-like score is based on unsupervised time series embeddings. It is able to score the fit of the fixed length synthetic samples into their context of (often much longer) true time series.\n",
    "\n",
    "- The lowest scoring models correspond to the best performing models in downstream tasks"
   ]
  },
  {
   "cell_type": "code",
   "execution_count": 3,
   "metadata": {
    "ExecuteTime": {
     "end_time": "2025-01-13T15:30:09.286983Z",
     "start_time": "2025-01-13T14:55:43.591096Z"
    }
   },
   "outputs": [
    {
     "name": "stderr",
     "output_type": "stream",
     "text": [
      "/mnt/data728/duyin/anaconda3/envs/torch201/lib/python3.9/site-packages/torch/nn/modules/conv.py:309: UserWarning: Applied workaround for CuDNN issue, install nvrtc.so (Triggered internally at /opt/conda/conda-bld/pytorch_1682343997789/work/aten/src/ATen/native/cudnn/Conv_v8.cpp:80.)\n",
      "  return F.conv1d(input, weight, bias, self.stride,\n"
     ]
    },
    {
     "name": "stdout",
     "output_type": "stream",
     "text": [
      "Iter 0:  context-fid = 0.1539521184869862 \n",
      "\n",
      "Iter 1:  context-fid = 0.14197769441115665 \n",
      "\n",
      "Iter 2:  context-fid = 0.1572108634809493 \n",
      "\n",
      "Iter 3:  context-fid = 0.14124899379889222 \n",
      "\n",
      "Iter 4:  context-fid = 0.14140027484046774 \n",
      "\n",
      "Final Score:  0.14715798900369043 ± 0.009660341998219855\n",
      "Iter 0:  context-fid = 0.13575071335584082 \n",
      "\n",
      "Iter 1:  context-fid = 0.15314940546329336 \n",
      "\n",
      "Iter 2:  context-fid = 0.1265744151430786 \n",
      "\n",
      "Iter 3:  context-fid = 0.1451707964153082 \n",
      "\n",
      "Iter 4:  context-fid = 0.15823098788380857 \n",
      "\n",
      "Final Score:  0.14377526365226592 ± 0.01593801144268587\n",
      "Iter 0:  context-fid = 0.13478861925439292 \n",
      "\n",
      "Iter 1:  context-fid = 0.15159140812987948 \n",
      "\n",
      "Iter 2:  context-fid = 0.15113372006685577 \n",
      "\n",
      "Iter 3:  context-fid = 0.12039819637549547 \n",
      "\n",
      "Iter 4:  context-fid = 0.14423213684225505 \n",
      "\n",
      "Final Score:  0.14042881613377572 ± 0.016268893065113872\n",
      "Iter 0:  context-fid = 0.1504375629148786 \n",
      "\n",
      "Iter 1:  context-fid = 0.15606139937888347 \n",
      "\n",
      "Iter 2:  context-fid = 0.15116564329397644 \n",
      "\n",
      "Iter 3:  context-fid = 0.12978829684562626 \n",
      "\n",
      "Iter 4:  context-fid = 0.13695961158010223 \n",
      "\n",
      "Final Score:  0.14488250280269338 ± 0.013685248809773514\n",
      "Iter 0:  context-fid = 0.14499206992436214 \n",
      "\n",
      "Iter 1:  context-fid = 0.14161190548259212 \n",
      "\n",
      "Iter 2:  context-fid = 0.1601218644623485 \n",
      "\n",
      "Iter 3:  context-fid = 0.14241602957945276 \n",
      "\n",
      "Iter 4:  context-fid = 0.1551683500754668 \n",
      "\n",
      "Final Score:  0.14886204390484448 ± 0.010307407327882788\n",
      "Iter 0:  context-fid = 0.13486792931748742 \n",
      "\n",
      "Iter 1:  context-fid = 0.13948832247605436 \n",
      "\n",
      "Iter 2:  context-fid = 0.1582411483842382 \n",
      "\n",
      "Iter 3:  context-fid = 0.15999932327646055 \n",
      "\n",
      "Iter 4:  context-fid = 0.14542563959780702 \n",
      "\n",
      "Final Score:  0.1476044726104095 ± 0.013876809511735427\n",
      "Iter 0:  context-fid = 0.14326139421285639 \n",
      "\n",
      "Iter 1:  context-fid = 0.1503593901013472 \n",
      "\n",
      "Iter 2:  context-fid = 0.15126443582274893 \n",
      "\n",
      "Iter 3:  context-fid = 0.16133126889556942 \n",
      "\n",
      "Iter 4:  context-fid = 0.14440873524923703 \n",
      "\n",
      "Final Score:  0.15012504485635178 ± 0.008926141092891821\n",
      "Iter 0:  context-fid = 0.13520489043597517 \n",
      "\n",
      "Iter 1:  context-fid = 0.1603749160967093 \n",
      "\n",
      "Iter 2:  context-fid = 0.14472205949762232 \n",
      "\n",
      "Iter 3:  context-fid = 0.14951006402619027 \n",
      "\n",
      "Iter 4:  context-fid = 0.15289029897259981 \n",
      "\n",
      "Final Score:  0.14854044580581935 ± 0.011653352009037174\n",
      "Iter 0:  context-fid = 0.14721876506040013 \n",
      "\n",
      "Iter 1:  context-fid = 0.1535966395183117 \n",
      "\n",
      "Iter 2:  context-fid = 0.12973360897657202 \n",
      "\n",
      "Iter 3:  context-fid = 0.17777700085336978 \n",
      "\n",
      "Iter 4:  context-fid = 0.14263069552600213 \n",
      "\n",
      "Final Score:  0.15019134198693115 ± 0.022011826423251935\n",
      "Iter 0:  context-fid = 0.15569700913903461 \n",
      "\n",
      "Iter 1:  context-fid = 0.1539592010057582 \n",
      "\n",
      "Iter 2:  context-fid = 0.14044531902004684 \n",
      "\n",
      "Iter 3:  context-fid = 0.1455009110027723 \n",
      "\n",
      "Iter 4:  context-fid = 0.1407936704713908 \n",
      "\n",
      "Final Score:  0.14727922212780056 ± 0.008941021016961375\n"
     ]
    }
   ],
   "source": [
    "for j in range(10):\n",
    "\n",
    "    context_fid_score = []\n",
    "\n",
    "    for i in range(iterations):\n",
    "        context_fid = Context_FID(ori_data[:], fake_data[:ori_data.shape[0]])\n",
    "        context_fid_score.append(context_fid)\n",
    "        print(f'Iter {i}: ', 'context-fid =', context_fid, '\\n')\n",
    "\n",
    "    display_scores(context_fid_score)\n",
    "\n",
    "# Seed 12345 Final Score:  0.13663267402399055 ± 0.005536055372540525\n",
    "# Seed 12345 Final Score:  0.129\n",
    "# Seed 12345 Final Score:  0.135\n",
    "\n",
    "# Seed 2025 Final Score:  0.148\n",
    "# Seed 2025 Final Score:  0.147\n",
    "# Seed 2025 Final Score:  0.142\n",
    "# Seed 2025 Final Score:  0.148"
   ]
  },
  {
   "cell_type": "markdown",
   "metadata": {},
   "source": [
    "## Correlational Score\n",
    "\n",
    "- The metric uses the absolute error of the auto-correlation estimator by real data and synthetic data as the metric to assess the temporal dependency.\n",
    "\n",
    "- For d > 1, it uses the l1-norm of the difference between cross correlation matrices."
   ]
  },
  {
   "cell_type": "code",
   "execution_count": 4,
   "metadata": {
    "ExecuteTime": {
     "end_time": "2025-01-13T15:30:09.296066Z",
     "start_time": "2025-01-13T15:30:09.291108Z"
    }
   },
   "outputs": [],
   "source": [
    "def random_choice(size, num_select=100):\n",
    "    select_idx = np.random.randint(low=0, high=size, size=(num_select,))\n",
    "    return select_idx"
   ]
  },
  {
   "cell_type": "code",
   "execution_count": 5,
   "metadata": {
    "ExecuteTime": {
     "end_time": "2025-01-13T15:30:09.480048Z",
     "start_time": "2025-01-13T15:30:09.298774Z"
    }
   },
   "outputs": [
    {
     "name": "stdout",
     "output_type": "stream",
     "text": [
      "Iter 0:  cross-correlation = 0.06502734570866069 \n",
      "\n",
      "Iter 1:  cross-correlation = 0.04699022407400987 \n",
      "\n",
      "Iter 2:  cross-correlation = 0.060597895333681207 \n",
      "\n",
      "Iter 3:  cross-correlation = 0.05390166204833485 \n",
      "\n",
      "Iter 4:  cross-correlation = 0.06074700349739004 \n",
      "\n",
      "Final Score:  0.057452826132415334 ± 0.008784130428385006\n"
     ]
    }
   ],
   "source": [
    "x_real = torch.from_numpy(ori_data)\n",
    "x_fake = torch.from_numpy(fake_data)\n",
    "\n",
    "correlational_score = []\n",
    "size = int(x_real.shape[0] / iterations)\n",
    "\n",
    "for i in range(iterations):\n",
    "    real_idx = random_choice(x_real.shape[0], size)\n",
    "    fake_idx = random_choice(x_fake.shape[0], size)\n",
    "    corr = CrossCorrelLoss(x_real[real_idx, :, :], name='CrossCorrelLoss')\n",
    "    loss = corr.compute(x_fake[fake_idx, :, :])\n",
    "    correlational_score.append(loss.item())\n",
    "    print(f'Iter {i}: ', 'cross-correlation =', loss.item(), '\\n')\n",
    "\n",
    "display_scores(correlational_score)"
   ]
  }
 ],
 "metadata": {
  "kernelspec": {
   "display_name": "torch201",
   "language": "python",
   "name": "torch201"
  },
  "language_info": {
   "codemirror_mode": {
    "name": "ipython",
    "version": 3
   },
   "file_extension": ".py",
   "mimetype": "text/x-python",
   "name": "python",
   "nbconvert_exporter": "python",
   "pygments_lexer": "ipython3",
   "version": "3.9.19"
  }
 },
 "nbformat": 4,
 "nbformat_minor": 2
}
